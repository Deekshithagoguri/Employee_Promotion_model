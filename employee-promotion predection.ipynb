{
 "cells": [
  {
   "cell_type": "code",
   "execution_count": 1,
   "id": "61d872c5",
   "metadata": {},
   "outputs": [],
   "source": [
    "import pandas as pd"
   ]
  },
  {
   "cell_type": "code",
   "execution_count": 2,
   "id": "c08a623d",
   "metadata": {},
   "outputs": [],
   "source": [
    "import numpy as np"
   ]
  },
  {
   "cell_type": "code",
   "execution_count": 3,
   "id": "aa93e3ea",
   "metadata": {},
   "outputs": [],
   "source": [
    "import seaborn as sns\n"
   ]
  },
  {
   "cell_type": "code",
   "execution_count": 4,
   "id": "799e3514",
   "metadata": {},
   "outputs": [],
   "source": [
    "import matplotlib.pyplot as plt"
   ]
  },
  {
   "cell_type": "code",
   "execution_count": 5,
   "id": "f8ff5540",
   "metadata": {},
   "outputs": [],
   "source": [
    "import plotly.graph_objs as go\n",
    "from plotly.offline import iplot, init_notebook_mode"
   ]
  },
  {
   "cell_type": "code",
   "execution_count": 6,
   "id": "da92bb3c",
   "metadata": {},
   "outputs": [
    {
     "data": {
      "text/html": [
       "<div>\n",
       "<style scoped>\n",
       "    .dataframe tbody tr th:only-of-type {\n",
       "        vertical-align: middle;\n",
       "    }\n",
       "\n",
       "    .dataframe tbody tr th {\n",
       "        vertical-align: top;\n",
       "    }\n",
       "\n",
       "    .dataframe thead th {\n",
       "        text-align: right;\n",
       "    }\n",
       "</style>\n",
       "<table border=\"1\" class=\"dataframe\">\n",
       "  <thead>\n",
       "    <tr style=\"text-align: right;\">\n",
       "      <th></th>\n",
       "      <th>employee_id</th>\n",
       "      <th>department</th>\n",
       "      <th>region</th>\n",
       "      <th>education</th>\n",
       "      <th>gender</th>\n",
       "      <th>recruitment_channel</th>\n",
       "      <th>no_of_trainings</th>\n",
       "      <th>age</th>\n",
       "      <th>previous_year_rating</th>\n",
       "      <th>length_of_service</th>\n",
       "      <th>KPIs_met &gt;80%</th>\n",
       "      <th>awards_won?</th>\n",
       "      <th>avg_training_score</th>\n",
       "      <th>is_promoted</th>\n",
       "    </tr>\n",
       "  </thead>\n",
       "  <tbody>\n",
       "    <tr>\n",
       "      <th>0</th>\n",
       "      <td>65438</td>\n",
       "      <td>Sales &amp; Marketing</td>\n",
       "      <td>region_7</td>\n",
       "      <td>Master's &amp; above</td>\n",
       "      <td>f</td>\n",
       "      <td>sourcing</td>\n",
       "      <td>1</td>\n",
       "      <td>35</td>\n",
       "      <td>5.0</td>\n",
       "      <td>8</td>\n",
       "      <td>1</td>\n",
       "      <td>0</td>\n",
       "      <td>49</td>\n",
       "      <td>0.0</td>\n",
       "    </tr>\n",
       "    <tr>\n",
       "      <th>1</th>\n",
       "      <td>65141</td>\n",
       "      <td>Operations</td>\n",
       "      <td>region_22</td>\n",
       "      <td>Bachelor's</td>\n",
       "      <td>m</td>\n",
       "      <td>other</td>\n",
       "      <td>1</td>\n",
       "      <td>30</td>\n",
       "      <td>5.0</td>\n",
       "      <td>4</td>\n",
       "      <td>0</td>\n",
       "      <td>0</td>\n",
       "      <td>60</td>\n",
       "      <td>0.0</td>\n",
       "    </tr>\n",
       "    <tr>\n",
       "      <th>2</th>\n",
       "      <td>7513</td>\n",
       "      <td>Sales &amp; Marketing</td>\n",
       "      <td>region_19</td>\n",
       "      <td>Bachelor's</td>\n",
       "      <td>m</td>\n",
       "      <td>sourcing</td>\n",
       "      <td>1</td>\n",
       "      <td>34</td>\n",
       "      <td>3.0</td>\n",
       "      <td>7</td>\n",
       "      <td>0</td>\n",
       "      <td>0</td>\n",
       "      <td>50</td>\n",
       "      <td>0.0</td>\n",
       "    </tr>\n",
       "    <tr>\n",
       "      <th>3</th>\n",
       "      <td>2542</td>\n",
       "      <td>Sales &amp; Marketing</td>\n",
       "      <td>region_23</td>\n",
       "      <td>Bachelor's</td>\n",
       "      <td>m</td>\n",
       "      <td>other</td>\n",
       "      <td>2</td>\n",
       "      <td>39</td>\n",
       "      <td>1.0</td>\n",
       "      <td>10</td>\n",
       "      <td>0</td>\n",
       "      <td>0</td>\n",
       "      <td>50</td>\n",
       "      <td>0.0</td>\n",
       "    </tr>\n",
       "    <tr>\n",
       "      <th>4</th>\n",
       "      <td>48945</td>\n",
       "      <td>Technology</td>\n",
       "      <td>region_26</td>\n",
       "      <td>Bachelor's</td>\n",
       "      <td>m</td>\n",
       "      <td>other</td>\n",
       "      <td>1</td>\n",
       "      <td>45</td>\n",
       "      <td>3.0</td>\n",
       "      <td>2</td>\n",
       "      <td>0</td>\n",
       "      <td>0</td>\n",
       "      <td>73</td>\n",
       "      <td>0.0</td>\n",
       "    </tr>\n",
       "    <tr>\n",
       "      <th>...</th>\n",
       "      <td>...</td>\n",
       "      <td>...</td>\n",
       "      <td>...</td>\n",
       "      <td>...</td>\n",
       "      <td>...</td>\n",
       "      <td>...</td>\n",
       "      <td>...</td>\n",
       "      <td>...</td>\n",
       "      <td>...</td>\n",
       "      <td>...</td>\n",
       "      <td>...</td>\n",
       "      <td>...</td>\n",
       "      <td>...</td>\n",
       "      <td>...</td>\n",
       "    </tr>\n",
       "    <tr>\n",
       "      <th>23485</th>\n",
       "      <td>53478</td>\n",
       "      <td>Legal</td>\n",
       "      <td>region_2</td>\n",
       "      <td>Below Secondary</td>\n",
       "      <td>m</td>\n",
       "      <td>sourcing</td>\n",
       "      <td>1</td>\n",
       "      <td>24</td>\n",
       "      <td>3.0</td>\n",
       "      <td>1</td>\n",
       "      <td>0</td>\n",
       "      <td>0</td>\n",
       "      <td>61</td>\n",
       "      <td>NaN</td>\n",
       "    </tr>\n",
       "    <tr>\n",
       "      <th>23486</th>\n",
       "      <td>25600</td>\n",
       "      <td>Technology</td>\n",
       "      <td>region_25</td>\n",
       "      <td>Bachelor's</td>\n",
       "      <td>m</td>\n",
       "      <td>sourcing</td>\n",
       "      <td>1</td>\n",
       "      <td>31</td>\n",
       "      <td>3.0</td>\n",
       "      <td>7</td>\n",
       "      <td>0</td>\n",
       "      <td>0</td>\n",
       "      <td>74</td>\n",
       "      <td>NaN</td>\n",
       "    </tr>\n",
       "    <tr>\n",
       "      <th>23487</th>\n",
       "      <td>45409</td>\n",
       "      <td>HR</td>\n",
       "      <td>region_16</td>\n",
       "      <td>Bachelor's</td>\n",
       "      <td>f</td>\n",
       "      <td>sourcing</td>\n",
       "      <td>1</td>\n",
       "      <td>26</td>\n",
       "      <td>4.0</td>\n",
       "      <td>4</td>\n",
       "      <td>0</td>\n",
       "      <td>0</td>\n",
       "      <td>50</td>\n",
       "      <td>NaN</td>\n",
       "    </tr>\n",
       "    <tr>\n",
       "      <th>23488</th>\n",
       "      <td>1186</td>\n",
       "      <td>Procurement</td>\n",
       "      <td>region_31</td>\n",
       "      <td>Bachelor's</td>\n",
       "      <td>m</td>\n",
       "      <td>sourcing</td>\n",
       "      <td>3</td>\n",
       "      <td>27</td>\n",
       "      <td>NaN</td>\n",
       "      <td>1</td>\n",
       "      <td>0</td>\n",
       "      <td>0</td>\n",
       "      <td>70</td>\n",
       "      <td>NaN</td>\n",
       "    </tr>\n",
       "    <tr>\n",
       "      <th>23489</th>\n",
       "      <td>5973</td>\n",
       "      <td>Technology</td>\n",
       "      <td>region_17</td>\n",
       "      <td>Master's &amp; above</td>\n",
       "      <td>m</td>\n",
       "      <td>other</td>\n",
       "      <td>3</td>\n",
       "      <td>40</td>\n",
       "      <td>5.0</td>\n",
       "      <td>5</td>\n",
       "      <td>1</td>\n",
       "      <td>0</td>\n",
       "      <td>89</td>\n",
       "      <td>NaN</td>\n",
       "    </tr>\n",
       "  </tbody>\n",
       "</table>\n",
       "<p>78298 rows × 14 columns</p>\n",
       "</div>"
      ],
      "text/plain": [
       "       employee_id         department     region         education gender  \\\n",
       "0            65438  Sales & Marketing   region_7  Master's & above      f   \n",
       "1            65141         Operations  region_22        Bachelor's      m   \n",
       "2             7513  Sales & Marketing  region_19        Bachelor's      m   \n",
       "3             2542  Sales & Marketing  region_23        Bachelor's      m   \n",
       "4            48945         Technology  region_26        Bachelor's      m   \n",
       "...            ...                ...        ...               ...    ...   \n",
       "23485        53478              Legal   region_2   Below Secondary      m   \n",
       "23486        25600         Technology  region_25        Bachelor's      m   \n",
       "23487        45409                 HR  region_16        Bachelor's      f   \n",
       "23488         1186        Procurement  region_31        Bachelor's      m   \n",
       "23489         5973         Technology  region_17  Master's & above      m   \n",
       "\n",
       "      recruitment_channel  no_of_trainings  age  previous_year_rating  \\\n",
       "0                sourcing                1   35                   5.0   \n",
       "1                   other                1   30                   5.0   \n",
       "2                sourcing                1   34                   3.0   \n",
       "3                   other                2   39                   1.0   \n",
       "4                   other                1   45                   3.0   \n",
       "...                   ...              ...  ...                   ...   \n",
       "23485            sourcing                1   24                   3.0   \n",
       "23486            sourcing                1   31                   3.0   \n",
       "23487            sourcing                1   26                   4.0   \n",
       "23488            sourcing                3   27                   NaN   \n",
       "23489               other                3   40                   5.0   \n",
       "\n",
       "       length_of_service  KPIs_met >80%  awards_won?  avg_training_score  \\\n",
       "0                      8              1            0                  49   \n",
       "1                      4              0            0                  60   \n",
       "2                      7              0            0                  50   \n",
       "3                     10              0            0                  50   \n",
       "4                      2              0            0                  73   \n",
       "...                  ...            ...          ...                 ...   \n",
       "23485                  1              0            0                  61   \n",
       "23486                  7              0            0                  74   \n",
       "23487                  4              0            0                  50   \n",
       "23488                  1              0            0                  70   \n",
       "23489                  5              1            0                  89   \n",
       "\n",
       "       is_promoted  \n",
       "0              0.0  \n",
       "1              0.0  \n",
       "2              0.0  \n",
       "3              0.0  \n",
       "4              0.0  \n",
       "...            ...  \n",
       "23485          NaN  \n",
       "23486          NaN  \n",
       "23487          NaN  \n",
       "23488          NaN  \n",
       "23489          NaN  \n",
       "\n",
       "[78298 rows x 14 columns]"
      ]
     },
     "execution_count": 6,
     "metadata": {},
     "output_type": "execute_result"
    }
   ],
   "source": [
    "df=pd.read_csv(\"train.csv\",header=0)\n",
    "df1=pd.read_csv(\"test.csv\",header=0)\n",
    "df.append(df1)"
   ]
  },
  {
   "cell_type": "code",
   "execution_count": 7,
   "id": "8af18467",
   "metadata": {},
   "outputs": [
    {
     "data": {
      "text/plain": [
       "Index(['employee_id', 'department', 'region', 'education', 'gender',\n",
       "       'recruitment_channel', 'no_of_trainings', 'age', 'previous_year_rating',\n",
       "       'length_of_service', 'KPIs_met >80%', 'awards_won?',\n",
       "       'avg_training_score', 'is_promoted'],\n",
       "      dtype='object')"
      ]
     },
     "execution_count": 7,
     "metadata": {},
     "output_type": "execute_result"
    }
   ],
   "source": [
    "df.columns"
   ]
  },
  {
   "cell_type": "code",
   "execution_count": 8,
   "id": "c38a56b7",
   "metadata": {},
   "outputs": [
    {
     "data": {
      "text/plain": [
       "(54808, 14)"
      ]
     },
     "execution_count": 8,
     "metadata": {},
     "output_type": "execute_result"
    }
   ],
   "source": [
    "df.shape"
   ]
  },
  {
   "cell_type": "code",
   "execution_count": 9,
   "id": "3fd50b10",
   "metadata": {},
   "outputs": [
    {
     "data": {
      "text/html": [
       "<div>\n",
       "<style scoped>\n",
       "    .dataframe tbody tr th:only-of-type {\n",
       "        vertical-align: middle;\n",
       "    }\n",
       "\n",
       "    .dataframe tbody tr th {\n",
       "        vertical-align: top;\n",
       "    }\n",
       "\n",
       "    .dataframe thead th {\n",
       "        text-align: right;\n",
       "    }\n",
       "</style>\n",
       "<table border=\"1\" class=\"dataframe\">\n",
       "  <thead>\n",
       "    <tr style=\"text-align: right;\">\n",
       "      <th></th>\n",
       "      <th>employee_id</th>\n",
       "      <th>department</th>\n",
       "      <th>region</th>\n",
       "      <th>education</th>\n",
       "      <th>gender</th>\n",
       "      <th>recruitment_channel</th>\n",
       "      <th>no_of_trainings</th>\n",
       "      <th>age</th>\n",
       "      <th>previous_year_rating</th>\n",
       "      <th>length_of_service</th>\n",
       "      <th>KPIs_met &gt;80%</th>\n",
       "      <th>awards_won?</th>\n",
       "      <th>avg_training_score</th>\n",
       "      <th>is_promoted</th>\n",
       "    </tr>\n",
       "  </thead>\n",
       "  <tbody>\n",
       "    <tr>\n",
       "      <th>0</th>\n",
       "      <td>65438</td>\n",
       "      <td>Sales &amp; Marketing</td>\n",
       "      <td>region_7</td>\n",
       "      <td>Master's &amp; above</td>\n",
       "      <td>f</td>\n",
       "      <td>sourcing</td>\n",
       "      <td>1</td>\n",
       "      <td>35</td>\n",
       "      <td>5.0</td>\n",
       "      <td>8</td>\n",
       "      <td>1</td>\n",
       "      <td>0</td>\n",
       "      <td>49</td>\n",
       "      <td>0</td>\n",
       "    </tr>\n",
       "    <tr>\n",
       "      <th>1</th>\n",
       "      <td>65141</td>\n",
       "      <td>Operations</td>\n",
       "      <td>region_22</td>\n",
       "      <td>Bachelor's</td>\n",
       "      <td>m</td>\n",
       "      <td>other</td>\n",
       "      <td>1</td>\n",
       "      <td>30</td>\n",
       "      <td>5.0</td>\n",
       "      <td>4</td>\n",
       "      <td>0</td>\n",
       "      <td>0</td>\n",
       "      <td>60</td>\n",
       "      <td>0</td>\n",
       "    </tr>\n",
       "    <tr>\n",
       "      <th>2</th>\n",
       "      <td>7513</td>\n",
       "      <td>Sales &amp; Marketing</td>\n",
       "      <td>region_19</td>\n",
       "      <td>Bachelor's</td>\n",
       "      <td>m</td>\n",
       "      <td>sourcing</td>\n",
       "      <td>1</td>\n",
       "      <td>34</td>\n",
       "      <td>3.0</td>\n",
       "      <td>7</td>\n",
       "      <td>0</td>\n",
       "      <td>0</td>\n",
       "      <td>50</td>\n",
       "      <td>0</td>\n",
       "    </tr>\n",
       "    <tr>\n",
       "      <th>3</th>\n",
       "      <td>2542</td>\n",
       "      <td>Sales &amp; Marketing</td>\n",
       "      <td>region_23</td>\n",
       "      <td>Bachelor's</td>\n",
       "      <td>m</td>\n",
       "      <td>other</td>\n",
       "      <td>2</td>\n",
       "      <td>39</td>\n",
       "      <td>1.0</td>\n",
       "      <td>10</td>\n",
       "      <td>0</td>\n",
       "      <td>0</td>\n",
       "      <td>50</td>\n",
       "      <td>0</td>\n",
       "    </tr>\n",
       "    <tr>\n",
       "      <th>4</th>\n",
       "      <td>48945</td>\n",
       "      <td>Technology</td>\n",
       "      <td>region_26</td>\n",
       "      <td>Bachelor's</td>\n",
       "      <td>m</td>\n",
       "      <td>other</td>\n",
       "      <td>1</td>\n",
       "      <td>45</td>\n",
       "      <td>3.0</td>\n",
       "      <td>2</td>\n",
       "      <td>0</td>\n",
       "      <td>0</td>\n",
       "      <td>73</td>\n",
       "      <td>0</td>\n",
       "    </tr>\n",
       "  </tbody>\n",
       "</table>\n",
       "</div>"
      ],
      "text/plain": [
       "   employee_id         department     region         education gender  \\\n",
       "0        65438  Sales & Marketing   region_7  Master's & above      f   \n",
       "1        65141         Operations  region_22        Bachelor's      m   \n",
       "2         7513  Sales & Marketing  region_19        Bachelor's      m   \n",
       "3         2542  Sales & Marketing  region_23        Bachelor's      m   \n",
       "4        48945         Technology  region_26        Bachelor's      m   \n",
       "\n",
       "  recruitment_channel  no_of_trainings  age  previous_year_rating  \\\n",
       "0            sourcing                1   35                   5.0   \n",
       "1               other                1   30                   5.0   \n",
       "2            sourcing                1   34                   3.0   \n",
       "3               other                2   39                   1.0   \n",
       "4               other                1   45                   3.0   \n",
       "\n",
       "   length_of_service  KPIs_met >80%  awards_won?  avg_training_score  \\\n",
       "0                  8              1            0                  49   \n",
       "1                  4              0            0                  60   \n",
       "2                  7              0            0                  50   \n",
       "3                 10              0            0                  50   \n",
       "4                  2              0            0                  73   \n",
       "\n",
       "   is_promoted  \n",
       "0            0  \n",
       "1            0  \n",
       "2            0  \n",
       "3            0  \n",
       "4            0  "
      ]
     },
     "execution_count": 9,
     "metadata": {},
     "output_type": "execute_result"
    }
   ],
   "source": [
    "df.head()"
   ]
  },
  {
   "cell_type": "code",
   "execution_count": 10,
   "id": "5cd4d940",
   "metadata": {},
   "outputs": [
    {
     "name": "stdout",
     "output_type": "stream",
     "text": [
      "<class 'pandas.core.frame.DataFrame'>\n",
      "RangeIndex: 54808 entries, 0 to 54807\n",
      "Data columns (total 14 columns):\n",
      " #   Column                Non-Null Count  Dtype  \n",
      "---  ------                --------------  -----  \n",
      " 0   employee_id           54808 non-null  int64  \n",
      " 1   department            54808 non-null  object \n",
      " 2   region                54808 non-null  object \n",
      " 3   education             52399 non-null  object \n",
      " 4   gender                54808 non-null  object \n",
      " 5   recruitment_channel   54808 non-null  object \n",
      " 6   no_of_trainings       54808 non-null  int64  \n",
      " 7   age                   54808 non-null  int64  \n",
      " 8   previous_year_rating  50684 non-null  float64\n",
      " 9   length_of_service     54808 non-null  int64  \n",
      " 10  KPIs_met >80%         54808 non-null  int64  \n",
      " 11  awards_won?           54808 non-null  int64  \n",
      " 12  avg_training_score    54808 non-null  int64  \n",
      " 13  is_promoted           54808 non-null  int64  \n",
      "dtypes: float64(1), int64(8), object(5)\n",
      "memory usage: 5.9+ MB\n"
     ]
    }
   ],
   "source": [
    "df.info()"
   ]
  },
  {
   "cell_type": "code",
   "execution_count": 11,
   "id": "591596e2",
   "metadata": {},
   "outputs": [
    {
     "data": {
      "text/plain": [
       "['education', 'previous_year_rating']"
      ]
     },
     "execution_count": 11,
     "metadata": {},
     "output_type": "execute_result"
    }
   ],
   "source": [
    "df.columns[df.isna().any()].tolist()"
   ]
  },
  {
   "cell_type": "code",
   "execution_count": 12,
   "id": "b83c213a",
   "metadata": {},
   "outputs": [
    {
     "name": "stdout",
     "output_type": "stream",
     "text": [
      "region_7\n",
      "region_22\n",
      "region_19\n",
      "region_23\n",
      "region_26\n",
      "region_2\n",
      "region_20\n",
      "region_34\n",
      "region_1\n",
      "region_4\n",
      "region_29\n",
      "region_31\n",
      "region_15\n",
      "region_14\n",
      "region_11\n",
      "region_5\n",
      "region_28\n",
      "region_17\n",
      "region_13\n",
      "region_16\n",
      "region_25\n",
      "region_10\n",
      "region_27\n",
      "region_30\n",
      "region_12\n",
      "region_21\n",
      "region_8\n",
      "region_32\n",
      "region_6\n",
      "region_33\n",
      "region_24\n",
      "region_3\n",
      "region_9\n",
      "region_18\n"
     ]
    }
   ],
   "source": [
    "for i in df['region'].unique():\n",
    "    print(i)"
   ]
  },
  {
   "cell_type": "code",
   "execution_count": 13,
   "id": "6185ec3b",
   "metadata": {
    "scrolled": true
   },
   "outputs": [
    {
     "data": {
      "text/plain": [
       "employee_id                0\n",
       "department                 0\n",
       "region                     0\n",
       "education               2409\n",
       "gender                     0\n",
       "recruitment_channel        0\n",
       "no_of_trainings            0\n",
       "age                        0\n",
       "previous_year_rating    4124\n",
       "length_of_service          0\n",
       "KPIs_met >80%              0\n",
       "awards_won?                0\n",
       "avg_training_score         0\n",
       "is_promoted                0\n",
       "dtype: int64"
      ]
     },
     "execution_count": 13,
     "metadata": {},
     "output_type": "execute_result"
    }
   ],
   "source": [
    "df.isna().sum()"
   ]
  },
  {
   "cell_type": "markdown",
   "id": "dd255ac1",
   "metadata": {},
   "source": [
    "# missing imputation"
   ]
  },
  {
   "cell_type": "code",
   "execution_count": 14,
   "id": "046f2378",
   "metadata": {},
   "outputs": [],
   "source": [
    "df.dropna(axis=0,inplace=True)"
   ]
  },
  {
   "cell_type": "code",
   "execution_count": 15,
   "id": "220c7a1d",
   "metadata": {},
   "outputs": [
    {
     "data": {
      "text/plain": [
       "[]"
      ]
     },
     "execution_count": 15,
     "metadata": {},
     "output_type": "execute_result"
    }
   ],
   "source": [
    "df.columns[df.isna().any()].tolist()"
   ]
  },
  {
   "cell_type": "code",
   "execution_count": 16,
   "id": "b8e9cb6b",
   "metadata": {},
   "outputs": [
    {
     "data": {
      "text/html": [
       "<div>\n",
       "<style scoped>\n",
       "    .dataframe tbody tr th:only-of-type {\n",
       "        vertical-align: middle;\n",
       "    }\n",
       "\n",
       "    .dataframe tbody tr th {\n",
       "        vertical-align: top;\n",
       "    }\n",
       "\n",
       "    .dataframe thead th {\n",
       "        text-align: right;\n",
       "    }\n",
       "</style>\n",
       "<table border=\"1\" class=\"dataframe\">\n",
       "  <thead>\n",
       "    <tr style=\"text-align: right;\">\n",
       "      <th></th>\n",
       "      <th>employee_id</th>\n",
       "      <th>department</th>\n",
       "      <th>region</th>\n",
       "      <th>education</th>\n",
       "      <th>gender</th>\n",
       "      <th>recruitment_channel</th>\n",
       "      <th>no_of_trainings</th>\n",
       "      <th>age</th>\n",
       "      <th>previous_year_rating</th>\n",
       "      <th>length_of_service</th>\n",
       "      <th>KPIs_met &gt;80%</th>\n",
       "      <th>awards_won?</th>\n",
       "      <th>avg_training_score</th>\n",
       "      <th>is_promoted</th>\n",
       "    </tr>\n",
       "  </thead>\n",
       "  <tbody>\n",
       "    <tr>\n",
       "      <th>0</th>\n",
       "      <td>65438</td>\n",
       "      <td>Sales &amp; Marketing</td>\n",
       "      <td>region_7</td>\n",
       "      <td>Master's &amp; above</td>\n",
       "      <td>f</td>\n",
       "      <td>sourcing</td>\n",
       "      <td>1</td>\n",
       "      <td>35</td>\n",
       "      <td>5.0</td>\n",
       "      <td>8</td>\n",
       "      <td>1</td>\n",
       "      <td>0</td>\n",
       "      <td>49</td>\n",
       "      <td>0</td>\n",
       "    </tr>\n",
       "    <tr>\n",
       "      <th>1</th>\n",
       "      <td>65141</td>\n",
       "      <td>Operations</td>\n",
       "      <td>region_22</td>\n",
       "      <td>Bachelor's</td>\n",
       "      <td>m</td>\n",
       "      <td>other</td>\n",
       "      <td>1</td>\n",
       "      <td>30</td>\n",
       "      <td>5.0</td>\n",
       "      <td>4</td>\n",
       "      <td>0</td>\n",
       "      <td>0</td>\n",
       "      <td>60</td>\n",
       "      <td>0</td>\n",
       "    </tr>\n",
       "    <tr>\n",
       "      <th>2</th>\n",
       "      <td>7513</td>\n",
       "      <td>Sales &amp; Marketing</td>\n",
       "      <td>region_19</td>\n",
       "      <td>Bachelor's</td>\n",
       "      <td>m</td>\n",
       "      <td>sourcing</td>\n",
       "      <td>1</td>\n",
       "      <td>34</td>\n",
       "      <td>3.0</td>\n",
       "      <td>7</td>\n",
       "      <td>0</td>\n",
       "      <td>0</td>\n",
       "      <td>50</td>\n",
       "      <td>0</td>\n",
       "    </tr>\n",
       "    <tr>\n",
       "      <th>3</th>\n",
       "      <td>2542</td>\n",
       "      <td>Sales &amp; Marketing</td>\n",
       "      <td>region_23</td>\n",
       "      <td>Bachelor's</td>\n",
       "      <td>m</td>\n",
       "      <td>other</td>\n",
       "      <td>2</td>\n",
       "      <td>39</td>\n",
       "      <td>1.0</td>\n",
       "      <td>10</td>\n",
       "      <td>0</td>\n",
       "      <td>0</td>\n",
       "      <td>50</td>\n",
       "      <td>0</td>\n",
       "    </tr>\n",
       "    <tr>\n",
       "      <th>4</th>\n",
       "      <td>48945</td>\n",
       "      <td>Technology</td>\n",
       "      <td>region_26</td>\n",
       "      <td>Bachelor's</td>\n",
       "      <td>m</td>\n",
       "      <td>other</td>\n",
       "      <td>1</td>\n",
       "      <td>45</td>\n",
       "      <td>3.0</td>\n",
       "      <td>2</td>\n",
       "      <td>0</td>\n",
       "      <td>0</td>\n",
       "      <td>73</td>\n",
       "      <td>0</td>\n",
       "    </tr>\n",
       "  </tbody>\n",
       "</table>\n",
       "</div>"
      ],
      "text/plain": [
       "   employee_id         department     region         education gender  \\\n",
       "0        65438  Sales & Marketing   region_7  Master's & above      f   \n",
       "1        65141         Operations  region_22        Bachelor's      m   \n",
       "2         7513  Sales & Marketing  region_19        Bachelor's      m   \n",
       "3         2542  Sales & Marketing  region_23        Bachelor's      m   \n",
       "4        48945         Technology  region_26        Bachelor's      m   \n",
       "\n",
       "  recruitment_channel  no_of_trainings  age  previous_year_rating  \\\n",
       "0            sourcing                1   35                   5.0   \n",
       "1               other                1   30                   5.0   \n",
       "2            sourcing                1   34                   3.0   \n",
       "3               other                2   39                   1.0   \n",
       "4               other                1   45                   3.0   \n",
       "\n",
       "   length_of_service  KPIs_met >80%  awards_won?  avg_training_score  \\\n",
       "0                  8              1            0                  49   \n",
       "1                  4              0            0                  60   \n",
       "2                  7              0            0                  50   \n",
       "3                 10              0            0                  50   \n",
       "4                  2              0            0                  73   \n",
       "\n",
       "   is_promoted  \n",
       "0            0  \n",
       "1            0  \n",
       "2            0  \n",
       "3            0  \n",
       "4            0  "
      ]
     },
     "execution_count": 16,
     "metadata": {},
     "output_type": "execute_result"
    }
   ],
   "source": [
    "df.head()"
   ]
  },
  {
   "cell_type": "code",
   "execution_count": 17,
   "id": "809d860e",
   "metadata": {},
   "outputs": [
    {
     "data": {
      "text/plain": [
       "(48660, 14)"
      ]
     },
     "execution_count": 17,
     "metadata": {},
     "output_type": "execute_result"
    }
   ],
   "source": [
    "df.shape"
   ]
  },
  {
   "cell_type": "code",
   "execution_count": 18,
   "id": "dfb6a7a7",
   "metadata": {},
   "outputs": [
    {
     "name": "stdout",
     "output_type": "stream",
     "text": [
      "<class 'pandas.core.frame.DataFrame'>\n",
      "Int64Index: 48660 entries, 0 to 54807\n",
      "Data columns (total 14 columns):\n",
      " #   Column                Non-Null Count  Dtype  \n",
      "---  ------                --------------  -----  \n",
      " 0   employee_id           48660 non-null  int64  \n",
      " 1   department            48660 non-null  object \n",
      " 2   region                48660 non-null  object \n",
      " 3   education             48660 non-null  object \n",
      " 4   gender                48660 non-null  object \n",
      " 5   recruitment_channel   48660 non-null  object \n",
      " 6   no_of_trainings       48660 non-null  int64  \n",
      " 7   age                   48660 non-null  int64  \n",
      " 8   previous_year_rating  48660 non-null  float64\n",
      " 9   length_of_service     48660 non-null  int64  \n",
      " 10  KPIs_met >80%         48660 non-null  int64  \n",
      " 11  awards_won?           48660 non-null  int64  \n",
      " 12  avg_training_score    48660 non-null  int64  \n",
      " 13  is_promoted           48660 non-null  int64  \n",
      "dtypes: float64(1), int64(8), object(5)\n",
      "memory usage: 5.6+ MB\n"
     ]
    }
   ],
   "source": [
    "df.info()"
   ]
  },
  {
   "cell_type": "code",
   "execution_count": 19,
   "id": "27f4e5a3",
   "metadata": {},
   "outputs": [],
   "source": [
    "df=pd.get_dummies(df,columns=[\"education\",\"gender\",\"recruitment_channel\"],drop_first=True)"
   ]
  },
  {
   "cell_type": "code",
   "execution_count": 20,
   "id": "44645fdb",
   "metadata": {},
   "outputs": [
    {
     "data": {
      "text/html": [
       "<div>\n",
       "<style scoped>\n",
       "    .dataframe tbody tr th:only-of-type {\n",
       "        vertical-align: middle;\n",
       "    }\n",
       "\n",
       "    .dataframe tbody tr th {\n",
       "        vertical-align: top;\n",
       "    }\n",
       "\n",
       "    .dataframe thead th {\n",
       "        text-align: right;\n",
       "    }\n",
       "</style>\n",
       "<table border=\"1\" class=\"dataframe\">\n",
       "  <thead>\n",
       "    <tr style=\"text-align: right;\">\n",
       "      <th></th>\n",
       "      <th>employee_id</th>\n",
       "      <th>department</th>\n",
       "      <th>region</th>\n",
       "      <th>no_of_trainings</th>\n",
       "      <th>age</th>\n",
       "      <th>previous_year_rating</th>\n",
       "      <th>length_of_service</th>\n",
       "      <th>KPIs_met &gt;80%</th>\n",
       "      <th>awards_won?</th>\n",
       "      <th>avg_training_score</th>\n",
       "      <th>is_promoted</th>\n",
       "      <th>education_Below Secondary</th>\n",
       "      <th>education_Master's &amp; above</th>\n",
       "      <th>gender_m</th>\n",
       "      <th>recruitment_channel_referred</th>\n",
       "      <th>recruitment_channel_sourcing</th>\n",
       "    </tr>\n",
       "  </thead>\n",
       "  <tbody>\n",
       "    <tr>\n",
       "      <th>0</th>\n",
       "      <td>65438</td>\n",
       "      <td>Sales &amp; Marketing</td>\n",
       "      <td>region_7</td>\n",
       "      <td>1</td>\n",
       "      <td>35</td>\n",
       "      <td>5.0</td>\n",
       "      <td>8</td>\n",
       "      <td>1</td>\n",
       "      <td>0</td>\n",
       "      <td>49</td>\n",
       "      <td>0</td>\n",
       "      <td>0</td>\n",
       "      <td>1</td>\n",
       "      <td>0</td>\n",
       "      <td>0</td>\n",
       "      <td>1</td>\n",
       "    </tr>\n",
       "    <tr>\n",
       "      <th>1</th>\n",
       "      <td>65141</td>\n",
       "      <td>Operations</td>\n",
       "      <td>region_22</td>\n",
       "      <td>1</td>\n",
       "      <td>30</td>\n",
       "      <td>5.0</td>\n",
       "      <td>4</td>\n",
       "      <td>0</td>\n",
       "      <td>0</td>\n",
       "      <td>60</td>\n",
       "      <td>0</td>\n",
       "      <td>0</td>\n",
       "      <td>0</td>\n",
       "      <td>1</td>\n",
       "      <td>0</td>\n",
       "      <td>0</td>\n",
       "    </tr>\n",
       "    <tr>\n",
       "      <th>2</th>\n",
       "      <td>7513</td>\n",
       "      <td>Sales &amp; Marketing</td>\n",
       "      <td>region_19</td>\n",
       "      <td>1</td>\n",
       "      <td>34</td>\n",
       "      <td>3.0</td>\n",
       "      <td>7</td>\n",
       "      <td>0</td>\n",
       "      <td>0</td>\n",
       "      <td>50</td>\n",
       "      <td>0</td>\n",
       "      <td>0</td>\n",
       "      <td>0</td>\n",
       "      <td>1</td>\n",
       "      <td>0</td>\n",
       "      <td>1</td>\n",
       "    </tr>\n",
       "    <tr>\n",
       "      <th>3</th>\n",
       "      <td>2542</td>\n",
       "      <td>Sales &amp; Marketing</td>\n",
       "      <td>region_23</td>\n",
       "      <td>2</td>\n",
       "      <td>39</td>\n",
       "      <td>1.0</td>\n",
       "      <td>10</td>\n",
       "      <td>0</td>\n",
       "      <td>0</td>\n",
       "      <td>50</td>\n",
       "      <td>0</td>\n",
       "      <td>0</td>\n",
       "      <td>0</td>\n",
       "      <td>1</td>\n",
       "      <td>0</td>\n",
       "      <td>0</td>\n",
       "    </tr>\n",
       "    <tr>\n",
       "      <th>4</th>\n",
       "      <td>48945</td>\n",
       "      <td>Technology</td>\n",
       "      <td>region_26</td>\n",
       "      <td>1</td>\n",
       "      <td>45</td>\n",
       "      <td>3.0</td>\n",
       "      <td>2</td>\n",
       "      <td>0</td>\n",
       "      <td>0</td>\n",
       "      <td>73</td>\n",
       "      <td>0</td>\n",
       "      <td>0</td>\n",
       "      <td>0</td>\n",
       "      <td>1</td>\n",
       "      <td>0</td>\n",
       "      <td>0</td>\n",
       "    </tr>\n",
       "  </tbody>\n",
       "</table>\n",
       "</div>"
      ],
      "text/plain": [
       "   employee_id         department     region  no_of_trainings  age  \\\n",
       "0        65438  Sales & Marketing   region_7                1   35   \n",
       "1        65141         Operations  region_22                1   30   \n",
       "2         7513  Sales & Marketing  region_19                1   34   \n",
       "3         2542  Sales & Marketing  region_23                2   39   \n",
       "4        48945         Technology  region_26                1   45   \n",
       "\n",
       "   previous_year_rating  length_of_service  KPIs_met >80%  awards_won?  \\\n",
       "0                   5.0                  8              1            0   \n",
       "1                   5.0                  4              0            0   \n",
       "2                   3.0                  7              0            0   \n",
       "3                   1.0                 10              0            0   \n",
       "4                   3.0                  2              0            0   \n",
       "\n",
       "   avg_training_score  is_promoted  education_Below Secondary  \\\n",
       "0                  49            0                          0   \n",
       "1                  60            0                          0   \n",
       "2                  50            0                          0   \n",
       "3                  50            0                          0   \n",
       "4                  73            0                          0   \n",
       "\n",
       "   education_Master's & above  gender_m  recruitment_channel_referred  \\\n",
       "0                           1         0                             0   \n",
       "1                           0         1                             0   \n",
       "2                           0         1                             0   \n",
       "3                           0         1                             0   \n",
       "4                           0         1                             0   \n",
       "\n",
       "   recruitment_channel_sourcing  \n",
       "0                             1  \n",
       "1                             0  \n",
       "2                             1  \n",
       "3                             0  \n",
       "4                             0  "
      ]
     },
     "execution_count": 20,
     "metadata": {},
     "output_type": "execute_result"
    }
   ],
   "source": [
    "df.head()"
   ]
  },
  {
   "cell_type": "code",
   "execution_count": 21,
   "id": "bd154053",
   "metadata": {},
   "outputs": [],
   "source": [
    "from sklearn.preprocessing import LabelEncoder\n",
    "le=LabelEncoder()"
   ]
  },
  {
   "cell_type": "code",
   "execution_count": 22,
   "id": "e63a62ca",
   "metadata": {},
   "outputs": [],
   "source": [
    "columns=[\"department\",\"region\"]"
   ]
  },
  {
   "cell_type": "code",
   "execution_count": 23,
   "id": "b736c8a2",
   "metadata": {},
   "outputs": [],
   "source": [
    "for cols in columns:\n",
    "    le=LabelEncoder()\n",
    "    df[cols]=le.fit_transform(df[cols])"
   ]
  },
  {
   "cell_type": "code",
   "execution_count": 24,
   "id": "01d426fe",
   "metadata": {},
   "outputs": [
    {
     "data": {
      "text/html": [
       "<div>\n",
       "<style scoped>\n",
       "    .dataframe tbody tr th:only-of-type {\n",
       "        vertical-align: middle;\n",
       "    }\n",
       "\n",
       "    .dataframe tbody tr th {\n",
       "        vertical-align: top;\n",
       "    }\n",
       "\n",
       "    .dataframe thead th {\n",
       "        text-align: right;\n",
       "    }\n",
       "</style>\n",
       "<table border=\"1\" class=\"dataframe\">\n",
       "  <thead>\n",
       "    <tr style=\"text-align: right;\">\n",
       "      <th></th>\n",
       "      <th>employee_id</th>\n",
       "      <th>department</th>\n",
       "      <th>region</th>\n",
       "      <th>no_of_trainings</th>\n",
       "      <th>age</th>\n",
       "      <th>previous_year_rating</th>\n",
       "      <th>length_of_service</th>\n",
       "      <th>KPIs_met &gt;80%</th>\n",
       "      <th>awards_won?</th>\n",
       "      <th>avg_training_score</th>\n",
       "      <th>is_promoted</th>\n",
       "      <th>education_Below Secondary</th>\n",
       "      <th>education_Master's &amp; above</th>\n",
       "      <th>gender_m</th>\n",
       "      <th>recruitment_channel_referred</th>\n",
       "      <th>recruitment_channel_sourcing</th>\n",
       "    </tr>\n",
       "  </thead>\n",
       "  <tbody>\n",
       "    <tr>\n",
       "      <th>0</th>\n",
       "      <td>65438</td>\n",
       "      <td>7</td>\n",
       "      <td>31</td>\n",
       "      <td>1</td>\n",
       "      <td>35</td>\n",
       "      <td>5.0</td>\n",
       "      <td>8</td>\n",
       "      <td>1</td>\n",
       "      <td>0</td>\n",
       "      <td>49</td>\n",
       "      <td>0</td>\n",
       "      <td>0</td>\n",
       "      <td>1</td>\n",
       "      <td>0</td>\n",
       "      <td>0</td>\n",
       "      <td>1</td>\n",
       "    </tr>\n",
       "    <tr>\n",
       "      <th>1</th>\n",
       "      <td>65141</td>\n",
       "      <td>4</td>\n",
       "      <td>14</td>\n",
       "      <td>1</td>\n",
       "      <td>30</td>\n",
       "      <td>5.0</td>\n",
       "      <td>4</td>\n",
       "      <td>0</td>\n",
       "      <td>0</td>\n",
       "      <td>60</td>\n",
       "      <td>0</td>\n",
       "      <td>0</td>\n",
       "      <td>0</td>\n",
       "      <td>1</td>\n",
       "      <td>0</td>\n",
       "      <td>0</td>\n",
       "    </tr>\n",
       "    <tr>\n",
       "      <th>2</th>\n",
       "      <td>7513</td>\n",
       "      <td>7</td>\n",
       "      <td>10</td>\n",
       "      <td>1</td>\n",
       "      <td>34</td>\n",
       "      <td>3.0</td>\n",
       "      <td>7</td>\n",
       "      <td>0</td>\n",
       "      <td>0</td>\n",
       "      <td>50</td>\n",
       "      <td>0</td>\n",
       "      <td>0</td>\n",
       "      <td>0</td>\n",
       "      <td>1</td>\n",
       "      <td>0</td>\n",
       "      <td>1</td>\n",
       "    </tr>\n",
       "    <tr>\n",
       "      <th>3</th>\n",
       "      <td>2542</td>\n",
       "      <td>7</td>\n",
       "      <td>15</td>\n",
       "      <td>2</td>\n",
       "      <td>39</td>\n",
       "      <td>1.0</td>\n",
       "      <td>10</td>\n",
       "      <td>0</td>\n",
       "      <td>0</td>\n",
       "      <td>50</td>\n",
       "      <td>0</td>\n",
       "      <td>0</td>\n",
       "      <td>0</td>\n",
       "      <td>1</td>\n",
       "      <td>0</td>\n",
       "      <td>0</td>\n",
       "    </tr>\n",
       "    <tr>\n",
       "      <th>4</th>\n",
       "      <td>48945</td>\n",
       "      <td>8</td>\n",
       "      <td>18</td>\n",
       "      <td>1</td>\n",
       "      <td>45</td>\n",
       "      <td>3.0</td>\n",
       "      <td>2</td>\n",
       "      <td>0</td>\n",
       "      <td>0</td>\n",
       "      <td>73</td>\n",
       "      <td>0</td>\n",
       "      <td>0</td>\n",
       "      <td>0</td>\n",
       "      <td>1</td>\n",
       "      <td>0</td>\n",
       "      <td>0</td>\n",
       "    </tr>\n",
       "  </tbody>\n",
       "</table>\n",
       "</div>"
      ],
      "text/plain": [
       "   employee_id  department  region  no_of_trainings  age  \\\n",
       "0        65438           7      31                1   35   \n",
       "1        65141           4      14                1   30   \n",
       "2         7513           7      10                1   34   \n",
       "3         2542           7      15                2   39   \n",
       "4        48945           8      18                1   45   \n",
       "\n",
       "   previous_year_rating  length_of_service  KPIs_met >80%  awards_won?  \\\n",
       "0                   5.0                  8              1            0   \n",
       "1                   5.0                  4              0            0   \n",
       "2                   3.0                  7              0            0   \n",
       "3                   1.0                 10              0            0   \n",
       "4                   3.0                  2              0            0   \n",
       "\n",
       "   avg_training_score  is_promoted  education_Below Secondary  \\\n",
       "0                  49            0                          0   \n",
       "1                  60            0                          0   \n",
       "2                  50            0                          0   \n",
       "3                  50            0                          0   \n",
       "4                  73            0                          0   \n",
       "\n",
       "   education_Master's & above  gender_m  recruitment_channel_referred  \\\n",
       "0                           1         0                             0   \n",
       "1                           0         1                             0   \n",
       "2                           0         1                             0   \n",
       "3                           0         1                             0   \n",
       "4                           0         1                             0   \n",
       "\n",
       "   recruitment_channel_sourcing  \n",
       "0                             1  \n",
       "1                             0  \n",
       "2                             1  \n",
       "3                             0  \n",
       "4                             0  "
      ]
     },
     "execution_count": 24,
     "metadata": {},
     "output_type": "execute_result"
    }
   ],
   "source": [
    "df.head()"
   ]
  },
  {
   "cell_type": "code",
   "execution_count": 25,
   "id": "7c0c76c2",
   "metadata": {
    "scrolled": true
   },
   "outputs": [
    {
     "name": "stdout",
     "output_type": "stream",
     "text": [
      "<class 'pandas.core.frame.DataFrame'>\n",
      "Int64Index: 48660 entries, 0 to 54807\n",
      "Data columns (total 16 columns):\n",
      " #   Column                        Non-Null Count  Dtype  \n",
      "---  ------                        --------------  -----  \n",
      " 0   employee_id                   48660 non-null  int64  \n",
      " 1   department                    48660 non-null  int32  \n",
      " 2   region                        48660 non-null  int32  \n",
      " 3   no_of_trainings               48660 non-null  int64  \n",
      " 4   age                           48660 non-null  int64  \n",
      " 5   previous_year_rating          48660 non-null  float64\n",
      " 6   length_of_service             48660 non-null  int64  \n",
      " 7   KPIs_met >80%                 48660 non-null  int64  \n",
      " 8   awards_won?                   48660 non-null  int64  \n",
      " 9   avg_training_score            48660 non-null  int64  \n",
      " 10  is_promoted                   48660 non-null  int64  \n",
      " 11  education_Below Secondary     48660 non-null  uint8  \n",
      " 12  education_Master's & above    48660 non-null  uint8  \n",
      " 13  gender_m                      48660 non-null  uint8  \n",
      " 14  recruitment_channel_referred  48660 non-null  uint8  \n",
      " 15  recruitment_channel_sourcing  48660 non-null  uint8  \n",
      "dtypes: float64(1), int32(2), int64(8), uint8(5)\n",
      "memory usage: 4.3 MB\n"
     ]
    }
   ],
   "source": [
    "df.info()"
   ]
  },
  {
   "cell_type": "markdown",
   "id": "db390ff0",
   "metadata": {},
   "source": [
    "# univariate analysis"
   ]
  },
  {
   "cell_type": "code",
   "execution_count": 26,
   "id": "d3063e16",
   "metadata": {},
   "outputs": [],
   "source": [
    "'''Create the funtion for different plots and visualization'''\n",
    "\n",
    "'''Function to distribution plot'''\n",
    "def distplot(variable, color):\n",
    "    global ax\n",
    "    font_size = 16\n",
    "    title_size = 20\n",
    "    plt.rcParams['figure.figsize'] = (18, 7)\n",
    "    ax = sns.displot(variable, color = color)\n",
    "    plt.xlabel('%s' %variable.name, fontsize = font_size)\n",
    "    plt.ylabel('count of the department', fontsize = font_size)\n",
    "    plt.xticks(fontsize = font_size)\n",
    "    plt.yticks(fontsize = font_size)\n",
    "    plt.title('%s' %variable.name  + ' of the employee', fontsize = title_size)\n",
    "    plt.show()"
   ]
  },
  {
   "cell_type": "code",
   "execution_count": 27,
   "id": "cedd96f4",
   "metadata": {},
   "outputs": [
    {
     "data": {
      "image/png": "[encoded data removed]",
      "text/plain": [
       "<Figure size 360x360 with 1 Axes>"
      ]
     },
     "metadata": {
      "needs_background": "light"
     },
     "output_type": "display_data"
    }
   ],
   "source": [
    "distplot(df['department'], 'teal')"
   ]
  },
  {
   "cell_type": "code",
   "execution_count": 28,
   "id": "3e622e71",
   "metadata": {},
   "outputs": [
    {
     "data": {
      "image/png": "[encoded data removed]",
      "text/plain": [
       "<Figure size 360x360 with 1 Axes>"
      ]
     },
     "metadata": {
      "needs_background": "light"
     },
     "output_type": "display_data"
    }
   ],
   "source": [
    "distplot(df['previous_year_rating'], 'teal')"
   ]
  },
  {
   "cell_type": "code",
   "execution_count": 29,
   "id": "4d2117ba",
   "metadata": {},
   "outputs": [
    {
     "data": {
      "image/png": "[encoded data removed]",
      "text/plain": [
       "<Figure size 360x360 with 1 Axes>"
      ]
     },
     "metadata": {
      "needs_background": "light"
     },
     "output_type": "display_data"
    }
   ],
   "source": [
    "distplot(df['avg_training_score'], 'teal')"
   ]
  },
  {
   "cell_type": "code",
   "execution_count": 30,
   "id": "ab61b995",
   "metadata": {},
   "outputs": [],
   "source": [
    " '''Function to count plot'''     \n",
    "def countplot(variable, title,  color):\n",
    "    global ax\n",
    "    font_size = 14\n",
    "    title_size = 20\n",
    "    plt.rcParams['figure.figsize'] = (18, 8)\n",
    "    ax = sns.countplot(variable, palette = color)\n",
    "    plt.xlabel('%s' %variable.name, fontsize = font_size)\n",
    "    plt.xticks(rotation='vertical',fontsize = font_size)\n",
    "    plt.yticks(fontsize = font_size)\n",
    "    plt.title(title, fontsize = title_size)\n",
    "    plt.show()"
   ]
  },
  {
   "cell_type": "code",
   "execution_count": 31,
   "id": "b79e59b4",
   "metadata": {},
   "outputs": [
    {
     "name": "stderr",
     "output_type": "stream",
     "text": [
      "C:\\ProgramData\\Anaconda3\\lib\\site-packages\\seaborn\\_decorators.py:36: FutureWarning:\n",
      "\n",
      "Pass the following variable as a keyword arg: x. From version 0.12, the only valid positional argument will be `data`, and passing other arguments without an explicit keyword will result in an error or misinterpretation.\n",
      "\n"
     ]
    },
    {
     "data": {
      "image/png": "[encoded data removed]",
      "text/plain": [
       "<Figure size 1296x576 with 1 Axes>"
      ]
     },
     "metadata": {
      "needs_background": "light"
     },
     "output_type": "display_data"
    }
   ],
   "source": [
    "countplot(df['previous_year_rating'],'previous year rating of the employee', 'Set3')"
   ]
  },
  {
   "cell_type": "code",
   "execution_count": 32,
   "id": "0e3db1a8",
   "metadata": {},
   "outputs": [
    {
     "name": "stderr",
     "output_type": "stream",
     "text": [
      "C:\\ProgramData\\Anaconda3\\lib\\site-packages\\seaborn\\_decorators.py:36: FutureWarning:\n",
      "\n",
      "Pass the following variable as a keyword arg: x. From version 0.12, the only valid positional argument will be `data`, and passing other arguments without an explicit keyword will result in an error or misinterpretation.\n",
      "\n"
     ]
    },
    {
     "data": {
      "image/png": "[encoded data removed]",
      "text/plain": [
       "<Figure size 1296x576 with 1 Axes>"
      ]
     },
     "metadata": {
      "needs_background": "light"
     },
     "output_type": "display_data"
    }
   ],
   "source": [
    "countplot(df['avg_training_score'],'avg_training_score of the employee', 'Set3')"
   ]
  },
  {
   "cell_type": "markdown",
   "id": "04ea70cb",
   "metadata": {},
   "source": [
    "# Bivariate analysis"
   ]
  },
  {
   "cell_type": "markdown",
   "id": "5a2e48e5",
   "metadata": {},
   "source": [
    "'''Plot regression plot to see how Rating is correlated with numerical variables.'''\n",
    "corr_num = df.loc[:, ['previous_year_rating','KPIs_met >80%','avg_training_score', 'is_promoted']]\n",
    "for i in corr_num.columns:\n",
    "    x = corr_num[i]\n",
    "    y = df['is_promoted']\n",
    "    \n",
    "    # Creating the dataset and generating the plot\n",
    "    trace = go.Scatter(\n",
    "                       x = x,\n",
    "                       y = y,\n",
    "                       mode = 'markers',\n",
    "                       marker = dict(color = 'olive'))\n",
    "    \n",
    "    # Layout for regression plot\n",
    "    title = '{} vs is_promoted'.format(corr_num[i].name)\n",
    "    layout = go.Layout(title = title, yaxis = dict(title = 'is_promoted'))\n",
    "    \n",
    "    fig = go.Figure(data = trace, layout = layout)\n",
    "    iplot(fig)"
   ]
  },
  {
   "cell_type": "markdown",
   "id": "067a102a",
   "metadata": {},
   "source": [
    "# multivariate analysis"
   ]
  },
  {
   "cell_type": "code",
   "execution_count": 33,
   "id": "57cda437",
   "metadata": {},
   "outputs": [
    {
     "data": {
      "text/html": [
       "<div>\n",
       "<style scoped>\n",
       "    .dataframe tbody tr th:only-of-type {\n",
       "        vertical-align: middle;\n",
       "    }\n",
       "\n",
       "    .dataframe tbody tr th {\n",
       "        vertical-align: top;\n",
       "    }\n",
       "\n",
       "    .dataframe thead th {\n",
       "        text-align: right;\n",
       "    }\n",
       "</style>\n",
       "<table border=\"1\" class=\"dataframe\">\n",
       "  <thead>\n",
       "    <tr style=\"text-align: right;\">\n",
       "      <th></th>\n",
       "      <th>employee_id</th>\n",
       "      <th>department</th>\n",
       "      <th>region</th>\n",
       "      <th>no_of_trainings</th>\n",
       "      <th>age</th>\n",
       "      <th>previous_year_rating</th>\n",
       "      <th>length_of_service</th>\n",
       "      <th>KPIs_met &gt;80%</th>\n",
       "      <th>awards_won?</th>\n",
       "      <th>avg_training_score</th>\n",
       "      <th>is_promoted</th>\n",
       "      <th>education_Below Secondary</th>\n",
       "      <th>education_Master's &amp; above</th>\n",
       "      <th>gender_m</th>\n",
       "      <th>recruitment_channel_referred</th>\n",
       "      <th>recruitment_channel_sourcing</th>\n",
       "    </tr>\n",
       "  </thead>\n",
       "  <tbody>\n",
       "    <tr>\n",
       "      <th>employee_id</th>\n",
       "      <td>1.000000</td>\n",
       "      <td>-0.008246</td>\n",
       "      <td>-0.005959</td>\n",
       "      <td>-0.005665</td>\n",
       "      <td>0.000260</td>\n",
       "      <td>0.004465</td>\n",
       "      <td>0.001644</td>\n",
       "      <td>0.001215</td>\n",
       "      <td>0.008883</td>\n",
       "      <td>0.000945</td>\n",
       "      <td>0.002306</td>\n",
       "      <td>-0.002929</td>\n",
       "      <td>0.003139</td>\n",
       "      <td>-0.003348</td>\n",
       "      <td>-0.000863</td>\n",
       "      <td>0.002978</td>\n",
       "    </tr>\n",
       "    <tr>\n",
       "      <th>department</th>\n",
       "      <td>-0.008246</td>\n",
       "      <td>1.000000</td>\n",
       "      <td>-0.019740</td>\n",
       "      <td>0.013762</td>\n",
       "      <td>0.088488</td>\n",
       "      <td>-0.141178</td>\n",
       "      <td>0.061436</td>\n",
       "      <td>-0.086974</td>\n",
       "      <td>-0.001781</td>\n",
       "      <td>-0.228819</td>\n",
       "      <td>0.000990</td>\n",
       "      <td>-0.024198</td>\n",
       "      <td>0.054051</td>\n",
       "      <td>-0.034020</td>\n",
       "      <td>0.032440</td>\n",
       "      <td>-0.000616</td>\n",
       "    </tr>\n",
       "    <tr>\n",
       "      <th>region</th>\n",
       "      <td>-0.005959</td>\n",
       "      <td>-0.019740</td>\n",
       "      <td>1.000000</td>\n",
       "      <td>-0.002163</td>\n",
       "      <td>-0.088621</td>\n",
       "      <td>-0.004081</td>\n",
       "      <td>-0.054862</td>\n",
       "      <td>-0.006135</td>\n",
       "      <td>0.000745</td>\n",
       "      <td>0.023675</td>\n",
       "      <td>0.012016</td>\n",
       "      <td>-0.004926</td>\n",
       "      <td>0.000640</td>\n",
       "      <td>0.017678</td>\n",
       "      <td>-0.046228</td>\n",
       "      <td>0.005262</td>\n",
       "    </tr>\n",
       "    <tr>\n",
       "      <th>no_of_trainings</th>\n",
       "      <td>-0.005665</td>\n",
       "      <td>0.013762</td>\n",
       "      <td>-0.002163</td>\n",
       "      <td>1.000000</td>\n",
       "      <td>-0.083590</td>\n",
       "      <td>-0.064236</td>\n",
       "      <td>-0.055440</td>\n",
       "      <td>-0.046673</td>\n",
       "      <td>-0.008528</td>\n",
       "      <td>0.042033</td>\n",
       "      <td>-0.025006</td>\n",
       "      <td>0.003724</td>\n",
       "      <td>-0.036773</td>\n",
       "      <td>0.085456</td>\n",
       "      <td>-0.015895</td>\n",
       "      <td>-0.009477</td>\n",
       "    </tr>\n",
       "    <tr>\n",
       "      <th>age</th>\n",
       "      <td>0.000260</td>\n",
       "      <td>0.088488</td>\n",
       "      <td>-0.088621</td>\n",
       "      <td>-0.083590</td>\n",
       "      <td>1.000000</td>\n",
       "      <td>0.005068</td>\n",
       "      <td>0.620348</td>\n",
       "      <td>-0.033886</td>\n",
       "      <td>-0.010335</td>\n",
       "      <td>-0.066214</td>\n",
       "      <td>-0.022412</td>\n",
       "      <td>-0.148553</td>\n",
       "      <td>0.336930</td>\n",
       "      <td>-0.002446</td>\n",
       "      <td>-0.044405</td>\n",
       "      <td>-0.003792</td>\n",
       "    </tr>\n",
       "    <tr>\n",
       "      <th>previous_year_rating</th>\n",
       "      <td>0.004465</td>\n",
       "      <td>-0.141178</td>\n",
       "      <td>-0.004081</td>\n",
       "      <td>-0.064236</td>\n",
       "      <td>0.005068</td>\n",
       "      <td>1.000000</td>\n",
       "      <td>-0.001252</td>\n",
       "      <td>0.352434</td>\n",
       "      <td>0.027920</td>\n",
       "      <td>0.070041</td>\n",
       "      <td>0.158715</td>\n",
       "      <td>0.012083</td>\n",
       "      <td>0.013150</td>\n",
       "      <td>-0.022828</td>\n",
       "      <td>0.070560</td>\n",
       "      <td>-0.004721</td>\n",
       "    </tr>\n",
       "    <tr>\n",
       "      <th>length_of_service</th>\n",
       "      <td>0.001644</td>\n",
       "      <td>0.061436</td>\n",
       "      <td>-0.054862</td>\n",
       "      <td>-0.055440</td>\n",
       "      <td>0.620348</td>\n",
       "      <td>-0.001252</td>\n",
       "      <td>1.000000</td>\n",
       "      <td>-0.089081</td>\n",
       "      <td>-0.043750</td>\n",
       "      <td>-0.047461</td>\n",
       "      <td>-0.014267</td>\n",
       "      <td>-0.094436</td>\n",
       "      <td>0.212312</td>\n",
       "      <td>-0.011082</td>\n",
       "      <td>-0.030085</td>\n",
       "      <td>0.003021</td>\n",
       "    </tr>\n",
       "    <tr>\n",
       "      <th>KPIs_met &gt;80%</th>\n",
       "      <td>0.001215</td>\n",
       "      <td>-0.086974</td>\n",
       "      <td>-0.006135</td>\n",
       "      <td>-0.046673</td>\n",
       "      <td>-0.033886</td>\n",
       "      <td>0.352434</td>\n",
       "      <td>-0.089081</td>\n",
       "      <td>1.000000</td>\n",
       "      <td>0.095208</td>\n",
       "      <td>0.074114</td>\n",
       "      <td>0.219933</td>\n",
       "      <td>0.009214</td>\n",
       "      <td>0.005028</td>\n",
       "      <td>-0.038172</td>\n",
       "      <td>0.045645</td>\n",
       "      <td>-0.005952</td>\n",
       "    </tr>\n",
       "    <tr>\n",
       "      <th>awards_won?</th>\n",
       "      <td>0.008883</td>\n",
       "      <td>-0.001781</td>\n",
       "      <td>0.000745</td>\n",
       "      <td>-0.008528</td>\n",
       "      <td>-0.010335</td>\n",
       "      <td>0.027920</td>\n",
       "      <td>-0.043750</td>\n",
       "      <td>0.095208</td>\n",
       "      <td>1.000000</td>\n",
       "      <td>0.073132</td>\n",
       "      <td>0.196971</td>\n",
       "      <td>0.000569</td>\n",
       "      <td>-0.001910</td>\n",
       "      <td>0.002275</td>\n",
       "      <td>0.001333</td>\n",
       "      <td>-0.006146</td>\n",
       "    </tr>\n",
       "    <tr>\n",
       "      <th>avg_training_score</th>\n",
       "      <td>0.000945</td>\n",
       "      <td>-0.228819</td>\n",
       "      <td>0.023675</td>\n",
       "      <td>0.042033</td>\n",
       "      <td>-0.066214</td>\n",
       "      <td>0.070041</td>\n",
       "      <td>-0.047461</td>\n",
       "      <td>0.074114</td>\n",
       "      <td>0.073132</td>\n",
       "      <td>1.000000</td>\n",
       "      <td>0.179494</td>\n",
       "      <td>0.008878</td>\n",
       "      <td>0.020750</td>\n",
       "      <td>-0.017835</td>\n",
       "      <td>0.031165</td>\n",
       "      <td>-0.008622</td>\n",
       "    </tr>\n",
       "    <tr>\n",
       "      <th>is_promoted</th>\n",
       "      <td>0.002306</td>\n",
       "      <td>0.000990</td>\n",
       "      <td>0.012016</td>\n",
       "      <td>-0.025006</td>\n",
       "      <td>-0.022412</td>\n",
       "      <td>0.158715</td>\n",
       "      <td>-0.014267</td>\n",
       "      <td>0.219933</td>\n",
       "      <td>0.196971</td>\n",
       "      <td>0.179494</td>\n",
       "      <td>1.000000</td>\n",
       "      <td>-0.002895</td>\n",
       "      <td>0.027902</td>\n",
       "      <td>-0.011909</td>\n",
       "      <td>0.021020</td>\n",
       "      <td>0.000797</td>\n",
       "    </tr>\n",
       "    <tr>\n",
       "      <th>education_Below Secondary</th>\n",
       "      <td>-0.002929</td>\n",
       "      <td>-0.024198</td>\n",
       "      <td>-0.004926</td>\n",
       "      <td>0.003724</td>\n",
       "      <td>-0.148553</td>\n",
       "      <td>0.012083</td>\n",
       "      <td>-0.094436</td>\n",
       "      <td>0.009214</td>\n",
       "      <td>0.000569</td>\n",
       "      <td>0.008878</td>\n",
       "      <td>-0.002895</td>\n",
       "      <td>1.000000</td>\n",
       "      <td>-0.064438</td>\n",
       "      <td>-0.010927</td>\n",
       "      <td>0.013965</td>\n",
       "      <td>0.001676</td>\n",
       "    </tr>\n",
       "    <tr>\n",
       "      <th>education_Master's &amp; above</th>\n",
       "      <td>0.003139</td>\n",
       "      <td>0.054051</td>\n",
       "      <td>0.000640</td>\n",
       "      <td>-0.036773</td>\n",
       "      <td>0.336930</td>\n",
       "      <td>0.013150</td>\n",
       "      <td>0.212312</td>\n",
       "      <td>0.005028</td>\n",
       "      <td>-0.001910</td>\n",
       "      <td>0.020750</td>\n",
       "      <td>0.027902</td>\n",
       "      <td>-0.064438</td>\n",
       "      <td>1.000000</td>\n",
       "      <td>-0.024538</td>\n",
       "      <td>-0.031244</td>\n",
       "      <td>-0.000422</td>\n",
       "    </tr>\n",
       "    <tr>\n",
       "      <th>gender_m</th>\n",
       "      <td>-0.003348</td>\n",
       "      <td>-0.034020</td>\n",
       "      <td>0.017678</td>\n",
       "      <td>0.085456</td>\n",
       "      <td>-0.002446</td>\n",
       "      <td>-0.022828</td>\n",
       "      <td>-0.011082</td>\n",
       "      <td>-0.038172</td>\n",
       "      <td>0.002275</td>\n",
       "      <td>-0.017835</td>\n",
       "      <td>-0.011909</td>\n",
       "      <td>-0.010927</td>\n",
       "      <td>-0.024538</td>\n",
       "      <td>1.000000</td>\n",
       "      <td>0.009479</td>\n",
       "      <td>0.001889</td>\n",
       "    </tr>\n",
       "    <tr>\n",
       "      <th>recruitment_channel_referred</th>\n",
       "      <td>-0.000863</td>\n",
       "      <td>0.032440</td>\n",
       "      <td>-0.046228</td>\n",
       "      <td>-0.015895</td>\n",
       "      <td>-0.044405</td>\n",
       "      <td>0.070560</td>\n",
       "      <td>-0.030085</td>\n",
       "      <td>0.045645</td>\n",
       "      <td>0.001333</td>\n",
       "      <td>0.031165</td>\n",
       "      <td>0.021020</td>\n",
       "      <td>0.013965</td>\n",
       "      <td>-0.031244</td>\n",
       "      <td>0.009479</td>\n",
       "      <td>1.000000</td>\n",
       "      <td>-0.125494</td>\n",
       "    </tr>\n",
       "    <tr>\n",
       "      <th>recruitment_channel_sourcing</th>\n",
       "      <td>0.002978</td>\n",
       "      <td>-0.000616</td>\n",
       "      <td>0.005262</td>\n",
       "      <td>-0.009477</td>\n",
       "      <td>-0.003792</td>\n",
       "      <td>-0.004721</td>\n",
       "      <td>0.003021</td>\n",
       "      <td>-0.005952</td>\n",
       "      <td>-0.006146</td>\n",
       "      <td>-0.008622</td>\n",
       "      <td>0.000797</td>\n",
       "      <td>0.001676</td>\n",
       "      <td>-0.000422</td>\n",
       "      <td>0.001889</td>\n",
       "      <td>-0.125494</td>\n",
       "      <td>1.000000</td>\n",
       "    </tr>\n",
       "  </tbody>\n",
       "</table>\n",
       "</div>"
      ],
      "text/plain": [
       "                              employee_id  department    region  \\\n",
       "employee_id                      1.000000   -0.008246 -0.005959   \n",
       "department                      -0.008246    1.000000 -0.019740   \n",
       "region                          -0.005959   -0.019740  1.000000   \n",
       "no_of_trainings                 -0.005665    0.013762 -0.002163   \n",
       "age                              0.000260    0.088488 -0.088621   \n",
       "previous_year_rating             0.004465   -0.141178 -0.004081   \n",
       "length_of_service                0.001644    0.061436 -0.054862   \n",
       "KPIs_met >80%                    0.001215   -0.086974 -0.006135   \n",
       "awards_won?                      0.008883   -0.001781  0.000745   \n",
       "avg_training_score               0.000945   -0.228819  0.023675   \n",
       "is_promoted                      0.002306    0.000990  0.012016   \n",
       "education_Below Secondary       -0.002929   -0.024198 -0.004926   \n",
       "education_Master's & above       0.003139    0.054051  0.000640   \n",
       "gender_m                        -0.003348   -0.034020  0.017678   \n",
       "recruitment_channel_referred    -0.000863    0.032440 -0.046228   \n",
       "recruitment_channel_sourcing     0.002978   -0.000616  0.005262   \n",
       "\n",
       "                              no_of_trainings       age  previous_year_rating  \\\n",
       "employee_id                         -0.005665  0.000260              0.004465   \n",
       "department                           0.013762  0.088488             -0.141178   \n",
       "region                              -0.002163 -0.088621             -0.004081   \n",
       "no_of_trainings                      1.000000 -0.083590             -0.064236   \n",
       "age                                 -0.083590  1.000000              0.005068   \n",
       "previous_year_rating                -0.064236  0.005068              1.000000   \n",
       "length_of_service                   -0.055440  0.620348             -0.001252   \n",
       "KPIs_met >80%                       -0.046673 -0.033886              0.352434   \n",
       "awards_won?                         -0.008528 -0.010335              0.027920   \n",
       "avg_training_score                   0.042033 -0.066214              0.070041   \n",
       "is_promoted                         -0.025006 -0.022412              0.158715   \n",
       "education_Below Secondary            0.003724 -0.148553              0.012083   \n",
       "education_Master's & above          -0.036773  0.336930              0.013150   \n",
       "gender_m                             0.085456 -0.002446             -0.022828   \n",
       "recruitment_channel_referred        -0.015895 -0.044405              0.070560   \n",
       "recruitment_channel_sourcing        -0.009477 -0.003792             -0.004721   \n",
       "\n",
       "                              length_of_service  KPIs_met >80%  awards_won?  \\\n",
       "employee_id                            0.001644       0.001215     0.008883   \n",
       "department                             0.061436      -0.086974    -0.001781   \n",
       "region                                -0.054862      -0.006135     0.000745   \n",
       "no_of_trainings                       -0.055440      -0.046673    -0.008528   \n",
       "age                                    0.620348      -0.033886    -0.010335   \n",
       "previous_year_rating                  -0.001252       0.352434     0.027920   \n",
       "length_of_service                      1.000000      -0.089081    -0.043750   \n",
       "KPIs_met >80%                         -0.089081       1.000000     0.095208   \n",
       "awards_won?                           -0.043750       0.095208     1.000000   \n",
       "avg_training_score                    -0.047461       0.074114     0.073132   \n",
       "is_promoted                           -0.014267       0.219933     0.196971   \n",
       "education_Below Secondary             -0.094436       0.009214     0.000569   \n",
       "education_Master's & above             0.212312       0.005028    -0.001910   \n",
       "gender_m                              -0.011082      -0.038172     0.002275   \n",
       "recruitment_channel_referred          -0.030085       0.045645     0.001333   \n",
       "recruitment_channel_sourcing           0.003021      -0.005952    -0.006146   \n",
       "\n",
       "                              avg_training_score  is_promoted  \\\n",
       "employee_id                             0.000945     0.002306   \n",
       "department                             -0.228819     0.000990   \n",
       "region                                  0.023675     0.012016   \n",
       "no_of_trainings                         0.042033    -0.025006   \n",
       "age                                    -0.066214    -0.022412   \n",
       "previous_year_rating                    0.070041     0.158715   \n",
       "length_of_service                      -0.047461    -0.014267   \n",
       "KPIs_met >80%                           0.074114     0.219933   \n",
       "awards_won?                             0.073132     0.196971   \n",
       "avg_training_score                      1.000000     0.179494   \n",
       "is_promoted                             0.179494     1.000000   \n",
       "education_Below Secondary               0.008878    -0.002895   \n",
       "education_Master's & above              0.020750     0.027902   \n",
       "gender_m                               -0.017835    -0.011909   \n",
       "recruitment_channel_referred            0.031165     0.021020   \n",
       "recruitment_channel_sourcing           -0.008622     0.000797   \n",
       "\n",
       "                              education_Below Secondary  \\\n",
       "employee_id                                   -0.002929   \n",
       "department                                    -0.024198   \n",
       "region                                        -0.004926   \n",
       "no_of_trainings                                0.003724   \n",
       "age                                           -0.148553   \n",
       "previous_year_rating                           0.012083   \n",
       "length_of_service                             -0.094436   \n",
       "KPIs_met >80%                                  0.009214   \n",
       "awards_won?                                    0.000569   \n",
       "avg_training_score                             0.008878   \n",
       "is_promoted                                   -0.002895   \n",
       "education_Below Secondary                      1.000000   \n",
       "education_Master's & above                    -0.064438   \n",
       "gender_m                                      -0.010927   \n",
       "recruitment_channel_referred                   0.013965   \n",
       "recruitment_channel_sourcing                   0.001676   \n",
       "\n",
       "                              education_Master's & above  gender_m  \\\n",
       "employee_id                                     0.003139 -0.003348   \n",
       "department                                      0.054051 -0.034020   \n",
       "region                                          0.000640  0.017678   \n",
       "no_of_trainings                                -0.036773  0.085456   \n",
       "age                                             0.336930 -0.002446   \n",
       "previous_year_rating                            0.013150 -0.022828   \n",
       "length_of_service                               0.212312 -0.011082   \n",
       "KPIs_met >80%                                   0.005028 -0.038172   \n",
       "awards_won?                                    -0.001910  0.002275   \n",
       "avg_training_score                              0.020750 -0.017835   \n",
       "is_promoted                                     0.027902 -0.011909   \n",
       "education_Below Secondary                      -0.064438 -0.010927   \n",
       "education_Master's & above                      1.000000 -0.024538   \n",
       "gender_m                                       -0.024538  1.000000   \n",
       "recruitment_channel_referred                   -0.031244  0.009479   \n",
       "recruitment_channel_sourcing                   -0.000422  0.001889   \n",
       "\n",
       "                              recruitment_channel_referred  \\\n",
       "employee_id                                      -0.000863   \n",
       "department                                        0.032440   \n",
       "region                                           -0.046228   \n",
       "no_of_trainings                                  -0.015895   \n",
       "age                                              -0.044405   \n",
       "previous_year_rating                              0.070560   \n",
       "length_of_service                                -0.030085   \n",
       "KPIs_met >80%                                     0.045645   \n",
       "awards_won?                                       0.001333   \n",
       "avg_training_score                                0.031165   \n",
       "is_promoted                                       0.021020   \n",
       "education_Below Secondary                         0.013965   \n",
       "education_Master's & above                       -0.031244   \n",
       "gender_m                                          0.009479   \n",
       "recruitment_channel_referred                      1.000000   \n",
       "recruitment_channel_sourcing                     -0.125494   \n",
       "\n",
       "                              recruitment_channel_sourcing  \n",
       "employee_id                                       0.002978  \n",
       "department                                       -0.000616  \n",
       "region                                            0.005262  \n",
       "no_of_trainings                                  -0.009477  \n",
       "age                                              -0.003792  \n",
       "previous_year_rating                             -0.004721  \n",
       "length_of_service                                 0.003021  \n",
       "KPIs_met >80%                                    -0.005952  \n",
       "awards_won?                                      -0.006146  \n",
       "avg_training_score                               -0.008622  \n",
       "is_promoted                                       0.000797  \n",
       "education_Below Secondary                         0.001676  \n",
       "education_Master's & above                       -0.000422  \n",
       "gender_m                                          0.001889  \n",
       "recruitment_channel_referred                     -0.125494  \n",
       "recruitment_channel_sourcing                      1.000000  "
      ]
     },
     "execution_count": 33,
     "metadata": {},
     "output_type": "execute_result"
    }
   ],
   "source": [
    "df.corr()"
   ]
  },
  {
   "cell_type": "code",
   "execution_count": 34,
   "id": "04e3a061",
   "metadata": {
    "scrolled": true
   },
   "outputs": [
    {
     "data": {
      "text/plain": [
       "<AxesSubplot:>"
      ]
     },
     "execution_count": 34,
     "metadata": {},
     "output_type": "execute_result"
    },
    {
     "data": {
      "image/png": "[encoded data removed]",
      "text/plain": [
       "<Figure size 1296x576 with 2 Axes>"
      ]
     },
     "metadata": {
      "needs_background": "light"
     },
     "output_type": "display_data"
    }
   ],
   "source": [
    "sns.heatmap(df.corr())"
   ]
  },
  {
   "cell_type": "markdown",
   "id": "22fa1807",
   "metadata": {},
   "source": [
    "# test train split"
   ]
  },
  {
   "cell_type": "code",
   "execution_count": 35,
   "id": "19aa12aa",
   "metadata": {},
   "outputs": [],
   "source": [
    "y=df['is_promoted']\n",
    "del df['is_promoted']\n",
    "x=df"
   ]
  },
  {
   "cell_type": "code",
   "execution_count": 36,
   "id": "9964913a",
   "metadata": {},
   "outputs": [],
   "source": [
    "from sklearn.model_selection import train_test_split"
   ]
  },
  {
   "cell_type": "code",
   "execution_count": 37,
   "id": "c057762e",
   "metadata": {},
   "outputs": [],
   "source": [
    "x_train, x_test, y_train, y_test = train_test_split(x,y, test_size=0.33, random_state=42)"
   ]
  },
  {
   "cell_type": "markdown",
   "id": "ab0e0184",
   "metadata": {},
   "source": [
    "# logistic regression"
   ]
  },
  {
   "cell_type": "code",
   "execution_count": 38,
   "id": "6f6076ad",
   "metadata": {},
   "outputs": [],
   "source": [
    "from sklearn.linear_model import LogisticRegression"
   ]
  },
  {
   "cell_type": "code",
   "execution_count": 39,
   "id": "49aad812",
   "metadata": {},
   "outputs": [],
   "source": [
    "lr=LogisticRegression()\n"
   ]
  },
  {
   "cell_type": "code",
   "execution_count": 40,
   "id": "00f4c9d9",
   "metadata": {},
   "outputs": [
    {
     "data": {
      "text/plain": [
       "LogisticRegression()"
      ]
     },
     "execution_count": 40,
     "metadata": {},
     "output_type": "execute_result"
    }
   ],
   "source": [
    "lr.fit(x_train,y_train)"
   ]
  },
  {
   "cell_type": "code",
   "execution_count": 41,
   "id": "19b3a44a",
   "metadata": {},
   "outputs": [],
   "source": [
    "y_pred=lr.predict(x_test)"
   ]
  },
  {
   "cell_type": "code",
   "execution_count": 42,
   "id": "f0342062",
   "metadata": {},
   "outputs": [],
   "source": [
    "from sklearn.metrics import confusion_matrix,accuracy_score,recall_score,f1_score,precision_score"
   ]
  },
  {
   "cell_type": "code",
   "execution_count": 43,
   "id": "9dec2436",
   "metadata": {},
   "outputs": [
    {
     "data": {
      "text/plain": [
       "array([[14602,     0],\n",
       "       [ 1456,     0]], dtype=int64)"
      ]
     },
     "execution_count": 43,
     "metadata": {},
     "output_type": "execute_result"
    }
   ],
   "source": [
    "confusion_matrix(y_test,y_pred)"
   ]
  },
  {
   "cell_type": "code",
   "execution_count": 44,
   "id": "ecbe249b",
   "metadata": {},
   "outputs": [
    {
     "data": {
      "text/plain": [
       "0.909328683522232"
      ]
     },
     "execution_count": 44,
     "metadata": {},
     "output_type": "execute_result"
    }
   ],
   "source": [
    "accuracy_score(y_test,y_pred)"
   ]
  },
  {
   "cell_type": "markdown",
   "id": "c56c8fc1",
   "metadata": {},
   "source": [
    "# random forest"
   ]
  },
  {
   "cell_type": "code",
   "execution_count": 45,
   "id": "3f239e9e",
   "metadata": {},
   "outputs": [],
   "source": [
    "from sklearn.ensemble import RandomForestClassifier"
   ]
  },
  {
   "cell_type": "code",
   "execution_count": 46,
   "id": "d2f7df00",
   "metadata": {},
   "outputs": [],
   "source": [
    "rf=RandomForestClassifier(n_estimators=100,criterion=\"entropy\")"
   ]
  },
  {
   "cell_type": "code",
   "execution_count": 47,
   "id": "0ea7e256",
   "metadata": {},
   "outputs": [
    {
     "data": {
      "text/plain": [
       "RandomForestClassifier(criterion='entropy')"
      ]
     },
     "execution_count": 47,
     "metadata": {},
     "output_type": "execute_result"
    }
   ],
   "source": [
    "rf.fit(x_train,y_train)"
   ]
  },
  {
   "cell_type": "code",
   "execution_count": 48,
   "id": "4a763a09",
   "metadata": {},
   "outputs": [],
   "source": [
    "y_pred=rf.predict(x_test)"
   ]
  },
  {
   "cell_type": "code",
   "execution_count": 49,
   "id": "22795dd8",
   "metadata": {},
   "outputs": [
    {
     "data": {
      "text/plain": [
       "0.9281977830364927"
      ]
     },
     "execution_count": 49,
     "metadata": {},
     "output_type": "execute_result"
    }
   ],
   "source": [
    "accuracy_score(y_test,y_pred)"
   ]
  },
  {
   "cell_type": "markdown",
   "id": "f3ac9e56",
   "metadata": {},
   "source": [
    "# decision tree"
   ]
  },
  {
   "cell_type": "code",
   "execution_count": 50,
   "id": "13ae574c",
   "metadata": {},
   "outputs": [],
   "source": [
    "from sklearn.tree import DecisionTreeClassifier"
   ]
  },
  {
   "cell_type": "code",
   "execution_count": 51,
   "id": "1f2ae1b5",
   "metadata": {},
   "outputs": [],
   "source": [
    "D_tree=DecisionTreeClassifier(criterion=\"entropy\")"
   ]
  },
  {
   "cell_type": "code",
   "execution_count": 52,
   "id": "55caeeb9",
   "metadata": {},
   "outputs": [
    {
     "data": {
      "text/plain": [
       "DecisionTreeClassifier(criterion='entropy')"
      ]
     },
     "execution_count": 52,
     "metadata": {},
     "output_type": "execute_result"
    }
   ],
   "source": [
    "D_tree.fit(x_train,y_train)"
   ]
  },
  {
   "cell_type": "code",
   "execution_count": 53,
   "id": "efb2a143",
   "metadata": {},
   "outputs": [],
   "source": [
    "y_pred=D_tree.predict(x_test)"
   ]
  },
  {
   "cell_type": "code",
   "execution_count": 54,
   "id": "8f686432",
   "metadata": {},
   "outputs": [
    {
     "data": {
      "text/plain": [
       "0.8935110225432806"
      ]
     },
     "execution_count": 54,
     "metadata": {},
     "output_type": "execute_result"
    }
   ],
   "source": [
    "accuracy_score(y_test,y_pred)"
   ]
  },
  {
   "cell_type": "code",
   "execution_count": null,
   "id": "35bc0d47",
   "metadata": {},
   "outputs": [],
   "source": []
  }
 ],
 "metadata": {
  "kernelspec": {
   "display_name": "Python 3",
   "language": "python",
   "name": "python3"
  },
  "language_info": {
   "codemirror_mode": {
    "name": "ipython",
    "version": 3
   },
   "file_extension": ".py",
   "mimetype": "text/x-python",
   "name": "python",
   "nbconvert_exporter": "python",
   "pygments_lexer": "ipython3",
   "version": "3.8.8"
  }
 },
 "nbformat": 4,
 "nbformat_minor": 5
}
